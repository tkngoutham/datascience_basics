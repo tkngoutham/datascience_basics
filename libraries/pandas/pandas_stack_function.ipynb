{
 "cells": [
  {
   "cell_type": "code",
   "execution_count": 1,
   "metadata": {},
   "outputs": [
    {
     "name": "stderr",
     "output_type": "stream",
     "text": [
      "/Users/kittu/opt/anaconda3/lib/python3.9/site-packages/pandas/core/computation/expressions.py:21: UserWarning: Pandas requires version '2.8.4' or newer of 'numexpr' (version '2.8.1' currently installed).\n",
      "  from pandas.core.computation.check import NUMEXPR_INSTALLED\n",
      "/Users/kittu/opt/anaconda3/lib/python3.9/site-packages/pandas/core/arrays/masked.py:60: UserWarning: Pandas requires version '1.3.6' or newer of 'bottleneck' (version '1.3.4' currently installed).\n",
      "  from pandas.core import (\n"
     ]
    }
   ],
   "source": [
    "# Importing the Libraries\n",
    "\n",
    "import pandas as pd\n",
    "import numpy as np"
   ]
  },
  {
   "cell_type": "code",
   "execution_count": 2,
   "metadata": {},
   "outputs": [],
   "source": [
    "# Reading the dataset from the Github Repository\n",
    "\n",
    "df = pd.DataFrame([[\"Petrol\", \"770bhp\", \"720Nm\"], [\"Regular Petrol\", \"1001bhp\", \"1250Nm\"], [\"Premium Petrol\", \"561.9bhp\", \"540Nm\"]],\n",
    "                    index=['lamborghini', 'bugatti', 'ferrari'],\n",
    "                    columns=['Fuel Type', 'Max Power', 'Max Torque'])"
   ]
  },
  {
   "cell_type": "code",
   "execution_count": 3,
   "metadata": {},
   "outputs": [
    {
     "data": {
      "text/html": [
       "<div>\n",
       "<style scoped>\n",
       "    .dataframe tbody tr th:only-of-type {\n",
       "        vertical-align: middle;\n",
       "    }\n",
       "\n",
       "    .dataframe tbody tr th {\n",
       "        vertical-align: top;\n",
       "    }\n",
       "\n",
       "    .dataframe thead th {\n",
       "        text-align: right;\n",
       "    }\n",
       "</style>\n",
       "<table border=\"1\" class=\"dataframe\">\n",
       "  <thead>\n",
       "    <tr style=\"text-align: right;\">\n",
       "      <th></th>\n",
       "      <th>Fuel Type</th>\n",
       "      <th>Max Power</th>\n",
       "      <th>Max Torque</th>\n",
       "    </tr>\n",
       "  </thead>\n",
       "  <tbody>\n",
       "    <tr>\n",
       "      <th>lamborghini</th>\n",
       "      <td>Petrol</td>\n",
       "      <td>770bhp</td>\n",
       "      <td>720Nm</td>\n",
       "    </tr>\n",
       "    <tr>\n",
       "      <th>bugatti</th>\n",
       "      <td>Regular Petrol</td>\n",
       "      <td>1001bhp</td>\n",
       "      <td>1250Nm</td>\n",
       "    </tr>\n",
       "    <tr>\n",
       "      <th>ferrari</th>\n",
       "      <td>Premium Petrol</td>\n",
       "      <td>561.9bhp</td>\n",
       "      <td>540Nm</td>\n",
       "    </tr>\n",
       "  </tbody>\n",
       "</table>\n",
       "</div>"
      ],
      "text/plain": [
       "                  Fuel Type Max Power Max Torque\n",
       "lamborghini          Petrol    770bhp      720Nm\n",
       "bugatti      Regular Petrol   1001bhp     1250Nm\n",
       "ferrari      Premium Petrol  561.9bhp      540Nm"
      ]
     },
     "execution_count": 3,
     "metadata": {},
     "output_type": "execute_result"
    }
   ],
   "source": [
    "# Printing the DataFrame\n",
    "\n",
    "df"
   ]
  },
  {
   "cell_type": "code",
   "execution_count": 4,
   "metadata": {},
   "outputs": [],
   "source": [
    "# Making the Stacked version\n",
    "\n",
    "stacked = df.stack()"
   ]
  },
  {
   "cell_type": "code",
   "execution_count": 9,
   "metadata": {},
   "outputs": [
    {
     "data": {
      "text/plain": [
       "lamborghini  Fuel Type             Petrol\n",
       "             Max Power             770bhp\n",
       "             Max Torque             720Nm\n",
       "bugatti      Fuel Type     Regular Petrol\n",
       "             Max Power            1001bhp\n",
       "             Max Torque            1250Nm\n",
       "ferrari      Fuel Type     Premium Petrol\n",
       "             Max Power           561.9bhp\n",
       "             Max Torque             540Nm\n",
       "dtype: object"
      ]
     },
     "execution_count": 9,
     "metadata": {},
     "output_type": "execute_result"
    }
   ],
   "source": [
    "# Printing the Stacked version\n",
    "\n",
    "stacked"
   ]
  },
  {
   "cell_type": "code",
   "execution_count": 6,
   "metadata": {},
   "outputs": [
    {
     "data": {
      "text/plain": [
       "pandas.core.series.Series"
      ]
     },
     "execution_count": 6,
     "metadata": {},
     "output_type": "execute_result"
    }
   ],
   "source": [
    "# Printing the type of this Stacked version\n",
    "\n",
    "type(stacked)"
   ]
  },
  {
   "cell_type": "code",
   "execution_count": 7,
   "metadata": {},
   "outputs": [
    {
     "data": {
      "text/plain": [
       "MultiIndex([('lamborghini',  'Fuel Type'),\n",
       "            ('lamborghini',  'Max Power'),\n",
       "            ('lamborghini', 'Max Torque'),\n",
       "            (    'bugatti',  'Fuel Type'),\n",
       "            (    'bugatti',  'Max Power'),\n",
       "            (    'bugatti', 'Max Torque'),\n",
       "            (    'ferrari',  'Fuel Type'),\n",
       "            (    'ferrari',  'Max Power'),\n",
       "            (    'ferrari', 'Max Torque')],\n",
       "           )"
      ]
     },
     "execution_count": 7,
     "metadata": {},
     "output_type": "execute_result"
    }
   ],
   "source": [
    "# Printing the indices of Series\n",
    "\n",
    "stacked.index"
   ]
  },
  {
   "cell_type": "code",
   "execution_count": 8,
   "metadata": {},
   "outputs": [
    {
     "name": "stdout",
     "output_type": "stream",
     "text": [
      "('lamborghini', 'Fuel Type')\n",
      "('lamborghini', 'Max Power')\n",
      "('lamborghini', 'Max Torque')\n",
      "('bugatti', 'Fuel Type')\n",
      "('bugatti', 'Max Power')\n",
      "('bugatti', 'Max Torque')\n",
      "('ferrari', 'Fuel Type')\n",
      "('ferrari', 'Max Power')\n",
      "('ferrari', 'Max Torque')\n"
     ]
    }
   ],
   "source": [
    "# More clear explanation of Indices\n",
    "\n",
    "for i in range(0, len(stacked.index)):\n",
    "    print(stacked.index[i])"
   ]
  },
  {
   "cell_type": "code",
   "execution_count": null,
   "metadata": {},
   "outputs": [],
   "source": []
  }
 ],
 "metadata": {
  "kernelspec": {
   "display_name": "Python 3.9.12 ('base')",
   "language": "python",
   "name": "python3"
  },
  "language_info": {
   "codemirror_mode": {
    "name": "ipython",
    "version": 3
   },
   "file_extension": ".py",
   "mimetype": "text/x-python",
   "name": "python",
   "nbconvert_exporter": "python",
   "pygments_lexer": "ipython3",
   "version": "3.9.12"
  },
  "vscode": {
   "interpreter": {
    "hash": "a0d9a2c96556070c053a5505449737c0c917f0999d5c0130a66505f5d6505202"
   }
  }
 },
 "nbformat": 4,
 "nbformat_minor": 4
}
