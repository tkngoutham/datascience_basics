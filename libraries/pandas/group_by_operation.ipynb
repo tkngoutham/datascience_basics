{
 "cells": [
  {
   "cell_type": "code",
   "execution_count": null,
   "metadata": {},
   "outputs": [],
   "source": [
    "# Importing the Libraries\n",
    "\n",
    "import pandas as pd\n",
    "import numpy as np"
   ]
  },
  {
   "cell_type": "code",
   "execution_count": null,
   "metadata": {},
   "outputs": [],
   "source": [
    "# Reading the dataset from the Github Repository\n",
    "\n",
    "df = pd.read_csv(\"/usr/local/notebooks/datasets/users_data.csv\")"
   ]
  },
  {
   "cell_type": "markdown",
   "metadata": {},
   "source": [
    "<h3 style=\"color:red;\">Dataset Description</h3>\n",
    "<br/>\n",
    "<b style=\"color:blue;\">Dataset is about users living in different Countries</b>"
   ]
  },
  {
   "cell_type": "code",
   "execution_count": null,
   "metadata": {},
   "outputs": [],
   "source": [
    "# Printing the First 5 rows\n",
    "\n",
    "df.head()"
   ]
  },
  {
   "cell_type": "markdown",
   "metadata": {},
   "source": [
    "<h3 style=\"color:red;\">Task</h3>\n",
    "<b style=\"color:blue;\">Lets calculate the sum of salaries, median of weights, mean of height and maximum of\n",
    "age in each country. This can be accomplished by applying the group by.</b>"
   ]
  },
  {
   "cell_type": "markdown",
   "metadata": {},
   "source": [
    "<h3 style=\"color:red;\">Note</h3><b style=\"color:blue;\">In the below group by we pass in a dictionary where</b>\n",
    "<ul>\n",
    "  <li>Key is a column from DataFrame on which aggregate function is to be applied </li>\n",
    "  <li>Value is a lambda function calculating the respective function inside that group </li>\n",
    "</ul>"
   ]
  },
  {
   "cell_type": "code",
   "execution_count": null,
   "metadata": {},
   "outputs": [],
   "source": [
    "# Preprocessing the salary column and then changing its type\n",
    "\n",
    "df['salary'] = df['salary'].str.replace(',', '', regex=True)\n",
    "df['salary'] = df['salary'].str.replace('$', '', regex=True)\n",
    "df['salary'] = df['salary'].astype(float)"
   ]
  },
  {
   "cell_type": "code",
   "execution_count": null,
   "metadata": {},
   "outputs": [],
   "source": [
    "# Applying group by and passing in the functions calculated for each group for each repected column \n",
    "# as mentioned above.\n",
    "\n",
    "grouped_data=df.groupby('Country').agg({'salary': lambda salary: salary.sum(),\n",
    "                                        'weight': lambda weight: weight.median(),\n",
    "                                        'height': lambda height: height.mean(),\n",
    "                                        'age': lambda age: age.max()})"
   ]
  },
  {
   "cell_type": "code",
   "execution_count": null,
   "metadata": {},
   "outputs": [],
   "source": [
    "# Printing the result of each group\n",
    "\n",
    "grouped_data"
   ]
  },
  {
   "cell_type": "code",
   "execution_count": null,
   "metadata": {},
   "outputs": [],
   "source": []
  }
 ],
 "metadata": {
  "kernelspec": {
   "display_name": "Python 3.10.8 64-bit",
   "language": "python",
   "name": "python3"
  },
  "language_info": {
   "codemirror_mode": {
    "name": "ipython",
    "version": 3
   },
   "file_extension": ".py",
   "mimetype": "text/x-python",
   "name": "python",
   "nbconvert_exporter": "python",
   "pygments_lexer": "ipython3",
   "version": "3.10.8"
  },
  "vscode": {
   "interpreter": {
    "hash": "b0fa6594d8f4cbf19f97940f81e996739fb7646882a419484c72d19e05852a7e"
   }
  }
 },
 "nbformat": 4,
 "nbformat_minor": 4
}
