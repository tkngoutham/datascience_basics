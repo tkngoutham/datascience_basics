{
 "cells": [
  {
   "cell_type": "code",
   "execution_count": 1,
   "metadata": {},
   "outputs": [
    {
     "name": "stderr",
     "output_type": "stream",
     "text": [
      "/Users/kittu/opt/anaconda3/lib/python3.9/site-packages/pandas/core/computation/expressions.py:21: UserWarning: Pandas requires version '2.8.4' or newer of 'numexpr' (version '2.8.1' currently installed).\n",
      "  from pandas.core.computation.check import NUMEXPR_INSTALLED\n",
      "/Users/kittu/opt/anaconda3/lib/python3.9/site-packages/pandas/core/arrays/masked.py:60: UserWarning: Pandas requires version '1.3.6' or newer of 'bottleneck' (version '1.3.4' currently installed).\n",
      "  from pandas.core import (\n"
     ]
    },
    {
     "name": "stdout",
     "output_type": "stream",
     "text": [
      "** STEP 1 COMPLETED \"Analyzing the Markup\" **\n",
      "** STEP 2 COMPLETED \"Retrieving the HTML\" **\n",
      "** STEP 3 COMPLETED \"Retrieving the relevant Table\" **\n",
      "** STEP 4 COMPLETED \"Parsing the Rows to get data\" **\n"
     ]
    },
    {
     "ename": "AttributeError",
     "evalue": "'DataFrame' object has no attribute 'append'",
     "output_type": "error",
     "traceback": [
      "\u001b[0;31m---------------------------------------------------------------------------\u001b[0m",
      "\u001b[0;31mAttributeError\u001b[0m                            Traceback (most recent call last)",
      "\u001b[1;32m/Users/kittu/vs_projects/datascience_basics/libraries/beautifulsoup2.ipynb Cell 1\u001b[0m in \u001b[0;36m<cell line: 49>\u001b[0;34m()\u001b[0m\n\u001b[1;32m     <a href='vscode-notebook-cell:/Users/kittu/vs_projects/datascience_basics/libraries/beautifulsoup2.ipynb#ch0000000?line=47'>48</a>\u001b[0m dataframe \u001b[39m=\u001b[39m pd\u001b[39m.\u001b[39mDataFrame(columns\u001b[39m=\u001b[39mdata[\u001b[39m0\u001b[39m])\n\u001b[1;32m     <a href='vscode-notebook-cell:/Users/kittu/vs_projects/datascience_basics/libraries/beautifulsoup2.ipynb#ch0000000?line=48'>49</a>\u001b[0m \u001b[39mfor\u001b[39;00m i \u001b[39min\u001b[39;00m \u001b[39mrange\u001b[39m(\u001b[39m1\u001b[39m,\u001b[39mlen\u001b[39m(data)):\n\u001b[0;32m---> <a href='vscode-notebook-cell:/Users/kittu/vs_projects/datascience_basics/libraries/beautifulsoup2.ipynb#ch0000000?line=49'>50</a>\u001b[0m     dataframe \u001b[39m=\u001b[39m dataframe\u001b[39m.\u001b[39;49mappend(pd\u001b[39m.\u001b[39mSeries(data[i], index\u001b[39m=\u001b[39mdata[\u001b[39m0\u001b[39m]), ignore_index\u001b[39m=\u001b[39m\u001b[39mTrue\u001b[39;00m)\n\u001b[1;32m     <a href='vscode-notebook-cell:/Users/kittu/vs_projects/datascience_basics/libraries/beautifulsoup2.ipynb#ch0000000?line=52'>53</a>\u001b[0m \u001b[39mprint\u001b[39m(\u001b[39m'\u001b[39m\u001b[39m** STEP 5 COMPLETED \u001b[39m\u001b[39m\"\u001b[39m\u001b[39mConstructing the Dataframe\u001b[39m\u001b[39m\"\u001b[39m\u001b[39m **\u001b[39m\u001b[39m'\u001b[39m)\n\u001b[1;32m     <a href='vscode-notebook-cell:/Users/kittu/vs_projects/datascience_basics/libraries/beautifulsoup2.ipynb#ch0000000?line=54'>55</a>\u001b[0m \u001b[39mprint\u001b[39m(\u001b[39m\"\u001b[39m\u001b[39mThe constructed Dataframe is \u001b[39m\u001b[39m\\n\u001b[39;00m\u001b[39m\"\u001b[39m)\n",
      "File \u001b[0;32m~/opt/anaconda3/lib/python3.9/site-packages/pandas/core/generic.py:6299\u001b[0m, in \u001b[0;36mNDFrame.__getattr__\u001b[0;34m(self, name)\u001b[0m\n\u001b[1;32m   6292\u001b[0m \u001b[39mif\u001b[39;00m (\n\u001b[1;32m   6293\u001b[0m     name \u001b[39mnot\u001b[39;00m \u001b[39min\u001b[39;00m \u001b[39mself\u001b[39m\u001b[39m.\u001b[39m_internal_names_set\n\u001b[1;32m   6294\u001b[0m     \u001b[39mand\u001b[39;00m name \u001b[39mnot\u001b[39;00m \u001b[39min\u001b[39;00m \u001b[39mself\u001b[39m\u001b[39m.\u001b[39m_metadata\n\u001b[1;32m   6295\u001b[0m     \u001b[39mand\u001b[39;00m name \u001b[39mnot\u001b[39;00m \u001b[39min\u001b[39;00m \u001b[39mself\u001b[39m\u001b[39m.\u001b[39m_accessors\n\u001b[1;32m   6296\u001b[0m     \u001b[39mand\u001b[39;00m \u001b[39mself\u001b[39m\u001b[39m.\u001b[39m_info_axis\u001b[39m.\u001b[39m_can_hold_identifiers_and_holds_name(name)\n\u001b[1;32m   6297\u001b[0m ):\n\u001b[1;32m   6298\u001b[0m     \u001b[39mreturn\u001b[39;00m \u001b[39mself\u001b[39m[name]\n\u001b[0;32m-> 6299\u001b[0m \u001b[39mreturn\u001b[39;00m \u001b[39mobject\u001b[39;49m\u001b[39m.\u001b[39;49m\u001b[39m__getattribute__\u001b[39;49m(\u001b[39mself\u001b[39;49m, name)\n",
      "\u001b[0;31mAttributeError\u001b[0m: 'DataFrame' object has no attribute 'append'"
     ]
    }
   ],
   "source": [
    "# Importing the Libraries\n",
    "from urllib.request import urlopen\n",
    "import pandas as pd\n",
    "from bs4 import BeautifulSoup\n",
    "\n",
    "\n",
    "print('** STEP 1 COMPLETED \"Analyzing the Markup\" **')\n",
    "\n",
    "\n",
    "# Inializing the Soup object\n",
    "wikipedia_link = \"https://en.wikipedia.org/wiki/The_World%27s_Billionaires\"\n",
    "html_page = urlopen(wikipedia_link)\n",
    "soup = BeautifulSoup(html_page)\n",
    "\n",
    "\n",
    "print('** STEP 2 COMPLETED \"Retrieving the HTML\" **')\n",
    "\n",
    "\n",
    "# Retrieving the desired Table\n",
    "billionaires_table = soup.find(\"table\", class_=\"wikitable sortable\")\n",
    "table_body = billionaires_table.find(\"tbody\")\n",
    "\n",
    "\n",
    "print('** STEP 3 COMPLETED \"Retrieving the relevant Table\" **')\n",
    "\n",
    "\n",
    "# Parsing the <tr> tags to retrieve the relevant stuff\n",
    "count = 0\n",
    "data = list()\n",
    "table_rows = table_body.find_all(\"tr\")\n",
    "\n",
    "for row in table_rows:\n",
    "    if count == 0:\n",
    "        # As the first <tr> contains the Header of Table\n",
    "        cols = row.find_all(\"th\")\n",
    "        count = count + 1\n",
    "    else:\n",
    "        cols = row.find_all(\"td\")\n",
    "        \n",
    "    cols = [elem.text.strip() for elem in cols]\n",
    "    data.append([elem for elem in cols if elem])\n",
    "\n",
    "\n",
    "print('** STEP 4 COMPLETED \"Parsing the Rows to get data\" **')\n",
    "\n",
    "\n",
    "# Constructing the Dataframe from the extacted rows.\n",
    "dataframe = pd.DataFrame(columns=data[0])\n",
    "for i in range(1,len(data)):\n",
    "    dataframe = dataframe.append(pd.Series(data[i], index=data[0]), ignore_index=True)\n",
    "\n",
    "\n",
    "print('** STEP 5 COMPLETED \"Constructing the Dataframe\" **')\n",
    "\n",
    "print(\"The constructed Dataframe is \\n\")\n",
    "print(dataframe.to_string())"
   ]
  }
 ],
 "metadata": {
  "kernelspec": {
   "display_name": "Python 3.9.12 ('base')",
   "language": "python",
   "name": "python3"
  },
  "language_info": {
   "codemirror_mode": {
    "name": "ipython",
    "version": 3
   },
   "file_extension": ".py",
   "mimetype": "text/x-python",
   "name": "python",
   "nbconvert_exporter": "python",
   "pygments_lexer": "ipython3",
   "version": "3.9.12"
  },
  "orig_nbformat": 4,
  "vscode": {
   "interpreter": {
    "hash": "a0d9a2c96556070c053a5505449737c0c917f0999d5c0130a66505f5d6505202"
   }
  }
 },
 "nbformat": 4,
 "nbformat_minor": 2
}
