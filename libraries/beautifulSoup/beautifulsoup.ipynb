{
 "cells": [
  {
   "cell_type": "code",
   "execution_count": 9,
   "metadata": {},
   "outputs": [],
   "source": [
    "from bs4 import BeautifulSoup\n",
    "\n",
    "# Creating the Soup Object from the HTML page\n",
    "html_page = \"\"\"\n",
    "<!DOCTYPE html>\n",
    "<html>\n",
    "   <head>\n",
    "      <title>Data Science Course</title>\n",
    "      <style></style>\n",
    "   </head>\n",
    "   <body>\n",
    "      <h1 class=\"my-heading\"> This is a Heading Tag </h1>\n",
    "      <p id=\"my-paragraph\"> This is a paragraph in Data Science Course </p>\n",
    "      <em> This is an emphasis tag in Data Science Course </em>\n",
    "      <b> This is a tag for Bold Text </b>\n",
    "      <i> This is a tag for italic text </i>\n",
    "      <small> This is a tag for small text </small>\n",
    "      <u> This is a tag for underlined text </u>\n",
    "      <a href=\"https://www.educative.io/\"> This is a link to Educative Home Page </a>\n",
    "      <a href=\"https://www.facebook.com/\"> This is a link to Facebook Home Page </a>\n",
    "      <a href=\"https://twitter.com/\"> This is a link to Twitter Home Page </a>\n",
    "      <p id=\"add-paragraph\"> additional paragraph to be used </p>\n",
    "      <script></script>\n",
    "   </body>\n",
    "</html>\n",
    "\"\"\"\n",
    "\n",
    "soup = BeautifulSoup(html_page)\n"
   ]
  },
  {
   "cell_type": "code",
   "execution_count": 2,
   "metadata": {},
   "outputs": [
    {
     "name": "stdout",
     "output_type": "stream",
     "text": [
      "The <title> tag in the corresponding HTML is \n",
      "\n",
      "<title name=\"bssds\">Data Science Course</title>\n",
      "\n",
      "\n"
     ]
    }
   ],
   "source": [
    "# Getting the title tag of Html\n",
    "print(\"The <title> tag in the corresponding HTML is \\n\")\n",
    "print(soup.title)\n",
    "print(\"\\n\")\n",
    "\n"
   ]
  },
  {
   "cell_type": "code",
   "execution_count": 3,
   "metadata": {},
   "outputs": [
    {
     "name": "stdout",
     "output_type": "stream",
     "text": [
      "The <head> tag in the corresponding HTML is \n",
      "\n",
      "<head>\n",
      "<title name=\"bssds\">Data Science Course</title>\n",
      "<style></style>\n",
      "</head>\n",
      "\n",
      "\n"
     ]
    }
   ],
   "source": [
    "\n",
    "# Getting the head tag of Html\n",
    "print(\"The <head> tag in the corresponding HTML is \\n\")\n",
    "print(soup.head)\n",
    "print(\"\\n\")\n"
   ]
  },
  {
   "cell_type": "code",
   "execution_count": 4,
   "metadata": {},
   "outputs": [
    {
     "name": "stdout",
     "output_type": "stream",
     "text": [
      "The name of the <title> tag is \n",
      "\n",
      "title\n",
      "\n",
      "\n"
     ]
    }
   ],
   "source": [
    "# Getting the name of the title tag\n",
    "print(\"The name of the <title> tag is \\n\")\n",
    "print(soup.title.name)\n",
    "print(\"\\n\")"
   ]
  },
  {
   "cell_type": "code",
   "execution_count": 5,
   "metadata": {},
   "outputs": [
    {
     "name": "stdout",
     "output_type": "stream",
     "text": [
      "The name of the <head> tag is \n",
      "\n",
      "head\n",
      "\n",
      "\n"
     ]
    }
   ],
   "source": [
    "\n",
    "# Getting the name of the head tag\n",
    "print(\"The name of the <head> tag is \\n\")\n",
    "print(soup.head.name)\n",
    "print(\"\\n\")"
   ]
  },
  {
   "cell_type": "code",
   "execution_count": 6,
   "metadata": {},
   "outputs": [
    {
     "name": "stdout",
     "output_type": "stream",
     "text": [
      "The text inside the <title> tag is \n",
      "\n",
      "Data Science Course\n",
      "\n",
      "\n"
     ]
    }
   ],
   "source": [
    "\n",
    "# Getting the Text inside the title tag\n",
    "print(\"The text inside the <title> tag is \\n\")\n",
    "print(soup.title.string)\n",
    "print(\"\\n\")\n",
    "\n"
   ]
  },
  {
   "cell_type": "code",
   "execution_count": 7,
   "metadata": {},
   "outputs": [
    {
     "name": "stdout",
     "output_type": "stream",
     "text": [
      "The text inside the <head> tag is \n",
      "\n",
      "None\n",
      "\n",
      "\n"
     ]
    }
   ],
   "source": [
    "\n",
    "# Getting the Text inside the head tag\n",
    "print(\"The text inside the <head> tag is \\n\")\n",
    "print(soup.head.string)\n",
    "print(\"\\n\")\n"
   ]
  },
  {
   "cell_type": "code",
   "execution_count": 8,
   "metadata": {},
   "outputs": [
    {
     "name": "stdout",
     "output_type": "stream",
     "text": [
      "Anchor tags present in the HTML are\n",
      "[<a href=\"https://www.educative.io/\"> This is a link to Educative Home Page </a>, <a href=\"https://www.facebook.com/\"> This is a link to Facebook Home Page </a>, <a href=\"https://twitter.com/\"> This is a link to Twitter Home Page </a>]\n",
      "\n",
      "\n"
     ]
    }
   ],
   "source": [
    "\n",
    "# Displaying all the anchor tags in the HTML\n",
    "print(\"Anchor tags present in the HTML are\")\n",
    "print(soup.find_all('a'))\n",
    "print(\"\\n\")"
   ]
  },
  {
   "cell_type": "code",
   "execution_count": 12,
   "metadata": {},
   "outputs": [
    {
     "name": "stdout",
     "output_type": "stream",
     "text": [
      "paragraph tags present in the HTML are\n",
      "[<p id=\"my-paragraph\"> This is a paragraph in Data Science Course </p>, <p id=\"add-paragraph\"> additional paragraph to be used </p>]\n",
      "\n",
      "\n"
     ]
    }
   ],
   "source": [
    "\n",
    "# Displaying all the anchor tags in the HTML\n",
    "print(\"paragraph tags present in the HTML are\")\n",
    "print(soup.find_all('p'))\n",
    "print(\"\\n\")"
   ]
  },
  {
   "cell_type": "code",
   "execution_count": null,
   "metadata": {},
   "outputs": [],
   "source": []
  }
 ],
 "metadata": {
  "kernelspec": {
   "display_name": "Python 3.9.12 ('base')",
   "language": "python",
   "name": "python3"
  },
  "language_info": {
   "codemirror_mode": {
    "name": "ipython",
    "version": 3
   },
   "file_extension": ".py",
   "mimetype": "text/x-python",
   "name": "python",
   "nbconvert_exporter": "python",
   "pygments_lexer": "ipython3",
   "version": "3.9.12"
  },
  "orig_nbformat": 4,
  "vscode": {
   "interpreter": {
    "hash": "a0d9a2c96556070c053a5505449737c0c917f0999d5c0130a66505f5d6505202"
   }
  }
 },
 "nbformat": 4,
 "nbformat_minor": 2
}
