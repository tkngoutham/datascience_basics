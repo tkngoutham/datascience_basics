{
 "cells": [
  {
   "cell_type": "code",
   "execution_count": 1,
   "metadata": {},
   "outputs": [
    {
     "name": "stderr",
     "output_type": "stream",
     "text": [
      "/Users/kittu/opt/anaconda3/envs/py37_env/lib/python3.7/site-packages/tqdm/auto.py:22: TqdmWarning: IProgress not found. Please update jupyter and ipywidgets. See https://ipywidgets.readthedocs.io/en/stable/user_install.html\n",
      "  from .autonotebook import tqdm as notebook_tqdm\n"
     ]
    }
   ],
   "source": [
    "# Importing the Libraries\n",
    "import spacy\n",
    "import pandas as pd"
   ]
  },
  {
   "cell_type": "code",
   "execution_count": 2,
   "metadata": {},
   "outputs": [],
   "source": [
    "# Loading the English Models\n",
    "nlp = spacy.load(\"en_core_web_sm\")"
   ]
  },
  {
   "cell_type": "code",
   "execution_count": 3,
   "metadata": {},
   "outputs": [],
   "source": [
    "# Below function prints the Parts of Speech\n",
    "def parts_of_speech_tagger(doc):\n",
    "    \n",
    "    words = list()\n",
    "    parts_of_speech = list()\n",
    "    \n",
    "    for word in doc:\n",
    "        words.append(word.text)\n",
    "        parts_of_speech.append(word.pos_)\n",
    "    \n",
    "    df = pd.DataFrame({\"Word\": words,\n",
    "                      \"Part of Speech\" : parts_of_speech})\n",
    "    \n",
    "    print(df)"
   ]
  },
  {
   "cell_type": "markdown",
   "metadata": {},
   "source": [
    "# Example 1"
   ]
  },
  {
   "cell_type": "code",
   "execution_count": 4,
   "metadata": {},
   "outputs": [],
   "source": [
    "# Creating the Doc Object \n",
    "text = \"\"\"Great! Alex and his friend are the only brilliant boys with highest score in class.\"\"\"\n",
    "doc = nlp(text)"
   ]
  },
  {
   "cell_type": "code",
   "execution_count": 5,
   "metadata": {},
   "outputs": [
    {
     "name": "stdout",
     "output_type": "stream",
     "text": [
      "         Word Part of Speech\n",
      "0       Great            ADJ\n",
      "1           !          PUNCT\n",
      "2        Alex          PROPN\n",
      "3         and          CCONJ\n",
      "4         his           PRON\n",
      "5      friend           NOUN\n",
      "6         are            AUX\n",
      "7         the            DET\n",
      "8        only            ADJ\n",
      "9   brilliant            ADJ\n",
      "10       boys           NOUN\n",
      "11       with            ADP\n",
      "12    highest            ADJ\n",
      "13      score           NOUN\n",
      "14         in            ADP\n",
      "15      class           NOUN\n",
      "16          .          PUNCT\n"
     ]
    }
   ],
   "source": [
    "# Printing the parts of Speech\n",
    "parts_of_speech_tagger(doc)"
   ]
  },
  {
   "cell_type": "markdown",
   "metadata": {},
   "source": [
    "# Example 2"
   ]
  },
  {
   "cell_type": "code",
   "execution_count": 6,
   "metadata": {},
   "outputs": [],
   "source": [
    "# Creating the Doc Object \n",
    "text = \"\"\"Wow! Alex and his girlfriend are merrily enjoying their first date in London.\"\"\"\n",
    "doc = nlp(text)"
   ]
  },
  {
   "cell_type": "code",
   "execution_count": 7,
   "metadata": {},
   "outputs": [
    {
     "name": "stdout",
     "output_type": "stream",
     "text": [
      "          Word Part of Speech\n",
      "0          Wow           INTJ\n",
      "1            !          PUNCT\n",
      "2         Alex          PROPN\n",
      "3          and          CCONJ\n",
      "4          his           PRON\n",
      "5   girlfriend           NOUN\n",
      "6          are            AUX\n",
      "7      merrily            ADV\n",
      "8     enjoying           VERB\n",
      "9        their           PRON\n",
      "10       first            ADJ\n",
      "11        date           NOUN\n",
      "12          in            ADP\n",
      "13      London          PROPN\n",
      "14           .          PUNCT\n"
     ]
    }
   ],
   "source": [
    "# Printing the parts of Speech\n",
    "parts_of_speech_tagger(doc)"
   ]
  },
  {
   "cell_type": "code",
   "execution_count": null,
   "metadata": {},
   "outputs": [],
   "source": []
  }
 ],
 "metadata": {
  "kernelspec": {
   "display_name": "Python 3.7.13 ('py37_env')",
   "language": "python",
   "name": "python3"
  },
  "language_info": {
   "codemirror_mode": {
    "name": "ipython",
    "version": 3
   },
   "file_extension": ".py",
   "mimetype": "text/x-python",
   "name": "python",
   "nbconvert_exporter": "python",
   "pygments_lexer": "ipython3",
   "version": "3.7.13"
  },
  "vscode": {
   "interpreter": {
    "hash": "be35f3d20c01932b0fc94695853bc798624b969fc69bff6826fbceed54e425cc"
   }
  }
 },
 "nbformat": 4,
 "nbformat_minor": 2
}
