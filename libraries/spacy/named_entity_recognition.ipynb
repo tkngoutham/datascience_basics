{
 "cells": [
  {
   "cell_type": "code",
   "execution_count": 1,
   "metadata": {},
   "outputs": [
    {
     "name": "stderr",
     "output_type": "stream",
     "text": [
      "/Users/kittu/opt/anaconda3/envs/py37_env/lib/python3.7/site-packages/tqdm/auto.py:22: TqdmWarning: IProgress not found. Please update jupyter and ipywidgets. See https://ipywidgets.readthedocs.io/en/stable/user_install.html\n",
      "  from .autonotebook import tqdm as notebook_tqdm\n"
     ]
    }
   ],
   "source": [
    "# Importing the Libraries\n",
    "import spacy\n",
    "import pandas as pd"
   ]
  },
  {
   "cell_type": "code",
   "execution_count": 2,
   "metadata": {},
   "outputs": [],
   "source": [
    "# Loading the English Models\n",
    "nlp = spacy.load(\"en_core_web_sm\")"
   ]
  },
  {
   "cell_type": "code",
   "execution_count": 3,
   "metadata": {},
   "outputs": [],
   "source": [
    "# Named Entity Recognizer Function\n",
    "def named_entity_recognizer(doc):\n",
    "    \n",
    "    words = list()\n",
    "    named_entities = list()\n",
    "    \n",
    "    for ent in doc.ents:\n",
    "        words.append(ent.text)\n",
    "        named_entities.append(ent.label_)\n",
    "        \n",
    "    df = pd.DataFrame({\"Word\" : words,\n",
    "                      \"Named Entity\" : named_entities})\n",
    "    print(df)"
   ]
  },
  {
   "cell_type": "markdown",
   "metadata": {},
   "source": [
    "# Example 1"
   ]
  },
  {
   "cell_type": "code",
   "execution_count": 4,
   "metadata": {},
   "outputs": [],
   "source": [
    "# Creating the Doc Object \n",
    "text = \"\"\"The European Commission said on Thursday it disagreed with German advice to consumers to shun\n",
    "British lamb until scientists determine whether mad cow disease can be transmitted to sheep. Germany’s\n",
    "representative to the European Union’s veterinary committee Werner Zwingmann said on Wednesday\n",
    "consumers should buy sheepmeat from countries other than Britain until the scientiﬁc advice was clearer.\"\"\"\n",
    "\n",
    "doc = nlp(text)"
   ]
  },
  {
   "cell_type": "code",
   "execution_count": 5,
   "metadata": {},
   "outputs": [
    {
     "name": "stdout",
     "output_type": "stream",
     "text": [
      "                      Word Named Entity\n",
      "0  The European Commission          ORG\n",
      "1                 Thursday         DATE\n",
      "2                   German         NORP\n",
      "3                  British         NORP\n",
      "4                  Germany          GPE\n",
      "5     the European Union’s          ORG\n",
      "6         Werner Zwingmann       PERSON\n",
      "7                Wednesday         DATE\n",
      "8                  Britain          GPE\n"
     ]
    }
   ],
   "source": [
    "# Printing Named Entities\n",
    "named_entity_recognizer(doc)"
   ]
  },
  {
   "cell_type": "markdown",
   "metadata": {},
   "source": [
    "# Example 2"
   ]
  },
  {
   "cell_type": "code",
   "execution_count": 6,
   "metadata": {},
   "outputs": [],
   "source": [
    "# Creating the Doc Object \n",
    "text = \"\"\"Albert Einstein was born in Ulm, in the Kingdom of Württemberg in the German Empire, on 14 March 1879.\n",
    "His parents were Hermann Einstein, a salesman and engineer, and Pauline Koch. In 1880, the family moved to Munich, where Einstein's father \n",
    "and his uncle Jakob founded Elektrotechnische Fabrik J. Einstein & Cie, a company that manufactured \n",
    "electrical equipment based on direct current.\"\"\"\n",
    "\n",
    "doc = nlp(text)"
   ]
  },
  {
   "cell_type": "code",
   "execution_count": 7,
   "metadata": {},
   "outputs": [
    {
     "name": "stdout",
     "output_type": "stream",
     "text": [
      "                          Word Named Entity\n",
      "0              Albert Einstein       PERSON\n",
      "1                          Ulm          GPE\n",
      "2   the Kingdom of Württemberg          GPE\n",
      "3                       German         NORP\n",
      "4                14 March 1879         DATE\n",
      "5             Hermann Einstein       PERSON\n",
      "6                 Pauline Koch       PERSON\n",
      "7                         1880         DATE\n",
      "8                       Munich          GPE\n",
      "9                     Einstein       PERSON\n",
      "10                       Jakob          ORG\n",
      "11           Elektrotechnische          ORG\n",
      "12           J. Einstein & Cie          ORG\n"
     ]
    }
   ],
   "source": [
    "# Printing Named Entities\n",
    "named_entity_recognizer(doc)"
   ]
  },
  {
   "cell_type": "code",
   "execution_count": null,
   "metadata": {},
   "outputs": [],
   "source": []
  }
 ],
 "metadata": {
  "kernelspec": {
   "display_name": "Python 3.7.13 ('py37_env')",
   "language": "python",
   "name": "python3"
  },
  "language_info": {
   "codemirror_mode": {
    "name": "ipython",
    "version": 3
   },
   "file_extension": ".py",
   "mimetype": "text/x-python",
   "name": "python",
   "nbconvert_exporter": "python",
   "pygments_lexer": "ipython3",
   "version": "3.7.13"
  },
  "vscode": {
   "interpreter": {
    "hash": "be35f3d20c01932b0fc94695853bc798624b969fc69bff6826fbceed54e425cc"
   }
  }
 },
 "nbformat": 4,
 "nbformat_minor": 4
}
