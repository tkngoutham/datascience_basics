{
 "cells": [
  {
   "cell_type": "markdown",
   "metadata": {},
   "source": [
    "# Histogram\n",
    "<hr>\n",
    "\n",
    "# Dataset Description\n",
    "<hr>\n",
    "\n",
    "<p style=\"color:blue; font-size:18px;\"> This Dataset is about the players in <a href=\"https://www.kaggle.com/karangadiya/fifa19\">Fifa 2019 Football World Cup</a>. This dataset is about the players in 2019 world cup and their different attributes. \n",
    "\n",
    "Histogram are often confused with Bar chart. A histogram is meant to display the frequency of values in a given variable. In the case of histogram, on the x-axis, we have the numeric values or bins of values in which a variable’s most frequent values occur. On the y-axis, we have the range of frequencies in which the values occur.\n",
    "\n",
    "We will use the Fifa 19 complete player Dataset from Kaggle to make a Histogram of different variables.\n",
    "</p> "
   ]
  },
  {
   "cell_type": "code",
   "execution_count": null,
   "metadata": {},
   "outputs": [],
   "source": [
    "# Importing the libraries\n",
    "import pandas as pd\n",
    "import seaborn as sns\n",
    "import matplotlib.pyplot as plt"
   ]
  },
  {
   "cell_type": "code",
   "execution_count": null,
   "metadata": {},
   "outputs": [],
   "source": [
    "# Reading the Dataset\n",
    "dataset  = pd.read_csv(\"/usr/local/notebooks/datasets/data_football_players_7000_rows.csv\")"
   ]
  },
  {
   "cell_type": "code",
   "execution_count": null,
   "metadata": {},
   "outputs": [],
   "source": [
    "dataset.head()"
   ]
  },
  {
   "cell_type": "code",
   "execution_count": null,
   "metadata": {},
   "outputs": [],
   "source": [
    "dataset.shape"
   ]
  },
  {
   "cell_type": "code",
   "execution_count": null,
   "metadata": {},
   "outputs": [],
   "source": [
    "dataset.columns"
   ]
  },
  {
   "cell_type": "code",
   "execution_count": null,
   "metadata": {},
   "outputs": [],
   "source": [
    "dataset.dtypes"
   ]
  },
  {
   "cell_type": "markdown",
   "metadata": {},
   "source": [
    "# Columns Description\n",
    "<hr/>\n",
    "<div style=\"font-size:18px\">\n",
    "<p style=\"color:blue;\"> Some of the columns are below : </p> \n",
    "\n",
    "<ul>\n",
    "    <li> ID : unique id for every player </li>\n",
    "    <li> Name : name</li>\n",
    "    <li> Age : age </li>\n",
    "    <li> Nationality : nationality</li>\n",
    "    <li> Overall : overall rating</li>\n",
    "    <li> Potential : potential rating</li>\n",
    "    <li> Club : current club</li>\n",
    "    <li> Value : current market value</li>\n",
    "    <li> Wage : current wage</li>\n",
    "    <li> Preferred Foot : left/right</li>\n",
    "    \n",
    "</ul>\n",
    "\n",
    "<hr>\n",
    "\n",
    "<p> For description of other column please refer to this link <a href=\"https://www.kaggle.com/karangadiya/fifa19\"> Column Descriptions</a>. In this example we will be using the above columns for the illustration of the concepts.</p>\n",
    "</div>"
   ]
  },
  {
   "cell_type": "code",
   "execution_count": null,
   "metadata": {},
   "outputs": [],
   "source": [
    "dataset_filtered = dataset[[\"ID\", \"Name\", \"Age\", \"Nationality\", \"Overall\", \"Potential\", \"Club\", \"Value\", \"Wage\", \"Preferred Foot\"]].copy(deep=True)"
   ]
  },
  {
   "cell_type": "code",
   "execution_count": null,
   "metadata": {},
   "outputs": [],
   "source": [
    "dataset_filtered.head()"
   ]
  },
  {
   "cell_type": "code",
   "execution_count": null,
   "metadata": {},
   "outputs": [],
   "source": [
    "dataset_filtered.columns"
   ]
  },
  {
   "cell_type": "code",
   "execution_count": null,
   "metadata": {},
   "outputs": [],
   "source": [
    "dataset_filtered.dtypes"
   ]
  },
  {
   "cell_type": "markdown",
   "metadata": {},
   "source": [
    "# Task \n",
    "\n",
    "<div style=\"font-size:18px;\">\n",
    "<hr/>\n",
    "<p style=\"font-size:18px; color:purple\"> We will be looking at the Histograms of the following 3 columns </p>\n",
    "<ul>\n",
    "    <li>Age</li>\n",
    "    <li>Over all Rating</li>\n",
    "    <li>Value</li>\n",
    "</ul>\n",
    "</div>"
   ]
  },
  {
   "cell_type": "code",
   "execution_count": null,
   "metadata": {},
   "outputs": [],
   "source": [
    "# Converting the Value column to proper Amount\n",
    "\n",
    "# Logic Explanation\n",
    "\n",
    "# Replacing '€' with empty string in each amount.\n",
    "\n",
    "# Replacing 'M' with empty string in each amount if it is there. \n",
    "# Converting the amount to float and then multiplying by 1000000\n",
    "\n",
    "# Replacing 'K' with empty string in each amount if it is there. \n",
    "#Converting the amount to float and then multiplying by 1000\n",
    "\n",
    "def clean_value(value):\n",
    "    value = value.replace(\"€\", \"\")\n",
    "    if \"M\" in value:\n",
    "        return float(value.replace(\"M\", \"\")) * 1000000\n",
    "    elif \"K\" in value:\n",
    "        return float(value.replace(\"K\", \"\")) * 1000\n",
    "    else :\n",
    "        return float(value)\n",
    "\n",
    "# Applying the above \n",
    "dataset_filtered[\"Value\"] = dataset_filtered[\"Value\"].apply(clean_value)"
   ]
  },
  {
   "cell_type": "code",
   "execution_count": null,
   "metadata": {},
   "outputs": [],
   "source": [
    "sns.set(font_scale=1.3)\n",
    "fig = sns.displot(dataset_filtered[\"Age\"], kde=False)\n",
    "plt.xlabel(\"Age\")\n",
    "plt.ylabel(\"Frequency\")\n",
    "plt.title(\"Histogram of Age Column\") # You can comment this line out if you don't need title\n",
    "plt.show(fig)"
   ]
  },
  {
   "cell_type": "markdown",
   "metadata": {},
   "source": [
    "# Conclusion\n",
    "\n",
    "<hr/>\n",
    "\n",
    "<div style=\"font-size:18px\">\n",
    "\n",
    "<ul>\n",
    "    <li> We can see from the above Histogram that age is having Normal Distribution. </li>\n",
    "    <br>\n",
    "    <li> Y-axis is showing the Frequency of ages in each bin which are on the X-axis. </li>\n",
    "\n",
    "</ul>\n"
   ]
  },
  {
   "cell_type": "code",
   "execution_count": null,
   "metadata": {},
   "outputs": [],
   "source": [
    "fig = sns.displot(dataset_filtered[\"Overall\"], kde = False)\n",
    "plt.xlabel(\"Overall Rating\")\n",
    "plt.ylabel(\"Frequency\")\n",
    "plt.title(\"Histogram of Overall Rating Column\")\n",
    "plt.show(fig)"
   ]
  },
  {
   "cell_type": "markdown",
   "metadata": {},
   "source": [
    "# Conclusion\n",
    "\n",
    "<hr/>\n",
    "\n",
    "<div style=\"font-size:18px\">\n",
    "\n",
    "<ul>\n",
    "    <li> We can see from the above Histogram that overall rating is rightly skewed.</li>\n",
    "    <br>\n",
    "    <li> Y-axis is showing the Frequency of overall rating in each bin which are on the X-axis. </li>\n",
    "\n",
    "</ul>\n"
   ]
  },
  {
   "cell_type": "code",
   "execution_count": null,
   "metadata": {},
   "outputs": [],
   "source": [
    "fig =sns.displot(dataset_filtered[\"Value\"], kde = False)\n",
    "plt.xlabel(\"Value in Scientific Form\")\n",
    "plt.ylabel(\"Frequency\")\n",
    "plt.title(\"Histogram of Value of a Player Column\")\n",
    "plt.show(fig)"
   ]
  },
  {
   "cell_type": "markdown",
   "metadata": {},
   "source": [
    "# Conclusion\n",
    "\n",
    "<hr/>\n",
    "\n",
    "<div style=\"font-size:18px\">\n",
    "\n",
    "<ul>\n",
    "    <li> We can see from the above Histogram that Value is rightly skewed. </li>\n",
    "    <br>\n",
    "    <li> Y-axis is showing the Frequency of Value in each bin which are on the X-axis. </li>\n",
    "\n",
    "</ul>\n"
   ]
  },
  {
   "cell_type": "code",
   "execution_count": null,
   "metadata": {},
   "outputs": [],
   "source": []
  }
 ],
 "metadata": {
  "kernelspec": {
   "display_name": "Python 3.10.8 64-bit",
   "language": "python",
   "name": "python3"
  },
  "language_info": {
   "codemirror_mode": {
    "name": "ipython",
    "version": 3
   },
   "file_extension": ".py",
   "mimetype": "text/x-python",
   "name": "python",
   "nbconvert_exporter": "python",
   "pygments_lexer": "ipython3",
   "version": "3.10.8"
  },
  "vscode": {
   "interpreter": {
    "hash": "b0fa6594d8f4cbf19f97940f81e996739fb7646882a419484c72d19e05852a7e"
   }
  }
 },
 "nbformat": 4,
 "nbformat_minor": 2
}
